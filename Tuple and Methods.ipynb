{
 "cells": [
  {
   "cell_type": "code",
   "execution_count": null,
   "id": "69200052-6d01-4382-8718-d8cfff6021c6",
   "metadata": {},
   "outputs": [],
   "source": [
    "Tuple And Methods\n",
    "tuple is ordered collection of different data type elements\n",
    "tuple is defines with ()\n",
    "tuple is immutable\n",
    "tuple is hetrogenenous data type\n",
    "tuple is index based and sliceable\n",
    "tuple allows the duplicate values\n"
   ]
  },
  {
   "cell_type": "code",
   "execution_count": null,
   "id": "59f2e421-d464-4234-b552-a83fce8c6b07",
   "metadata": {},
   "outputs": [],
   "source": [
    "#example\n",
    "t = (1,2,'a','codegnan',5.5,2,1,[1,23,45],10)"
   ]
  },
  {
   "cell_type": "code",
   "execution_count": 2,
   "id": "84ad8e39-ed25-47d0-b173-82234dfeb771",
   "metadata": {},
   "outputs": [
    {
     "name": "stdout",
     "output_type": "stream",
     "text": [
      "<class 'tuple'> <class 'tuple'> <class 'tuple'>\n"
     ]
    }
   ],
   "source": [
    "#Intialize empty value\n",
    "t1 = ()\n",
    "#multiple values\n",
    "t2 = (1,2,'a',4.5)\n",
    "#single values tuple\n",
    "t3 = (34,)\n",
    "print(type(t1),type(t2),type(t3))"
   ]
  },
  {
   "cell_type": "code",
   "execution_count": 3,
   "id": "9b0ebe7a-6715-4c3d-aa36-b35263379a52",
   "metadata": {},
   "outputs": [
    {
     "name": "stdout",
     "output_type": "stream",
     "text": [
      "<class 'tuple'> <class 'tuple'> <class 'int'>\n"
     ]
    }
   ],
   "source": [
    "#Intialize empty value\n",
    "t1 = ()\n",
    "#multiple values\n",
    "t2 = (1,2,'a',4.5)\n",
    "#single values tuple\n",
    "t3 = (34)\n",
    "print(type(t1),type(t2),type(t3))"
   ]
  },
  {
   "cell_type": "code",
   "execution_count": 4,
   "id": "aa2454bd-96c3-4528-ac56-9460398c87d0",
   "metadata": {},
   "outputs": [
    {
     "name": "stdout",
     "output_type": "stream",
     "text": [
      "5.5\n",
      "2\n",
      "(2, 1, [1, 23, 45])\n",
      "(1, 2, 5.5, 'codegnan')\n",
      "(2, 1, [1, 23, 45], 10)\n"
     ]
    }
   ],
   "source": [
    "#indexing and sliceable\n",
    "t = (1,2,'a','codegnan',5.5,2,1,[1,23,45],10)\n",
    "print(t[4])\n",
    "print(t[-4])\n",
    "print(t[-4:-1])\n",
    "print(t[-3:2:-1])\n",
    "print(t[5:100:1])"
   ]
  },
  {
   "cell_type": "code",
   "execution_count": 5,
   "id": "1c3078d9-aa6a-4388-a8e1-5f7482bb4b2a",
   "metadata": {},
   "outputs": [
    {
     "name": "stdin",
     "output_type": "stream",
     "text": [
      " 2\n"
     ]
    },
    {
     "name": "stdout",
     "output_type": "stream",
     "text": [
      "(2,)\n"
     ]
    }
   ],
   "source": [
    "#tuple reading from user\n",
    "t = tuple(map(int,input().split()))\n",
    "print(t)"
   ]
  },
  {
   "cell_type": "code",
   "execution_count": 7,
   "id": "2483b02f-937b-44e3-b407-2c2faf9c0eaf",
   "metadata": {},
   "outputs": [
    {
     "name": "stdout",
     "output_type": "stream",
     "text": [
      "(1, 2, 'hi', 3, 4, 'bye')\n"
     ]
    }
   ],
   "source": [
    "#Tuple Concatenation using + Operator\n",
    "t1 = (1,2,'hi')\n",
    "t2 = (3,4,'bye')\n",
    "t3 = (t1+t2)\n",
    "print(t3)"
   ]
  },
  {
   "cell_type": "code",
   "execution_count": 8,
   "id": "6b4aa3b0-781a-4fad-8025-1ced0cbe7755",
   "metadata": {},
   "outputs": [
    {
     "name": "stdout",
     "output_type": "stream",
     "text": [
      "(1, 2, 'hi', 1, 2, 'hi', 1, 2, 'hi', 1, 2, 'hi')\n"
     ]
    }
   ],
   "source": [
    "#tuple repeate using *\n",
    "t1 = (1,2,'hi')\n",
    "print(t1*4)"
   ]
  },
  {
   "cell_type": "code",
   "execution_count": null,
   "id": "68fa57dd-149f-49e5-982d-4ccff706777e",
   "metadata": {},
   "outputs": [],
   "source": [
    "#Tuple Methods\n",
    "index(value)-returns index position of value if is present in the tuple otherwise value error\n",
    "count(value)-return total occurance of a value in tuple"
   ]
  },
  {
   "cell_type": "code",
   "execution_count": 18,
   "id": "1fb6b0b5-96b9-425a-97d8-c7514fd2fa91",
   "metadata": {},
   "outputs": [
    {
     "name": "stdout",
     "output_type": "stream",
     "text": [
      "count of 1 ele: 2\n",
      "Index of [1,23,45]is: 7\n"
     ]
    }
   ],
   "source": [
    "t = (1,2,'a','codegnan',5.5,2,1,[1,23,45],10)\n",
    "count_1 = t.count(1)\n",
    "print(\"count of 1 ele:\",count_1)\n",
    "ind = t.index([1,23,45])\n",
    "print(\"Index of [1,23,45]is:\" ,ind)"
   ]
  },
  {
   "cell_type": "code",
   "execution_count": 20,
   "id": "0f8890a9-1128-4cef-9af6-0545b4f5a9b4",
   "metadata": {},
   "outputs": [
    {
     "name": "stdout",
     "output_type": "stream",
     "text": [
      "count of [1,23,45]ele: 1\n"
     ]
    }
   ],
   "source": [
    "t = (1,2,'a','codegnan',5.5,2,1,[1,23,45],10)\n",
    "count = t.count([1,23,45])\n",
    "print(\"count of [1,23,45]ele:\",count)"
   ]
  },
  {
   "cell_type": "code",
   "execution_count": 22,
   "id": "1969ab72-cf70-459b-a632-3ff1812f7e66",
   "metadata": {},
   "outputs": [
    {
     "name": "stdout",
     "output_type": "stream",
     "text": [
      "min value in tuple: 1\n",
      "max value in tuple: 60\n",
      "sum of in tuple: 163\n",
      "length of tuple: 6\n"
     ]
    }
   ],
   "source": [
    "#build in functions\n",
    "#min(),max(),sum(),len()\n",
    "t = (1,2,20,50,30,60)\n",
    "min_val = min(t)\n",
    "max_val = max(t)\n",
    "sum_tuple = sum(t)\n",
    "length = len(t)\n",
    "print(\"min value in tuple:\",min_val)\n",
    "print(\"max value in tuple:\",max_val)\n",
    "print(\"sum of in tuple:\",sum_tuple)\n",
    "print(\"length of tuple:\",length)"
   ]
  },
  {
   "cell_type": "code",
   "execution_count": 23,
   "id": "571765a8-66e2-435f-b49c-a459e5acd9e9",
   "metadata": {},
   "outputs": [
    {
     "name": "stdout",
     "output_type": "stream",
     "text": [
      "[1, 2, 20, 30, 50, 60]\n"
     ]
    }
   ],
   "source": [
    "t = (1,2,20,50,30,60)\n",
    "t1 = sorted(t)\n",
    "print(t1)"
   ]
  },
  {
   "cell_type": "code",
   "execution_count": 1,
   "id": "e9c44316-e1b5-440a-b3c9-e95cdc657789",
   "metadata": {},
   "outputs": [
    {
     "name": "stdout",
     "output_type": "stream",
     "text": [
      "True\n",
      "True\n"
     ]
    }
   ],
   "source": [
    "#membership operator \n",
    "t = (1,2,20,50,30,60)\n",
    "print(2 in t)\n",
    "print(255 not in t)"
   ]
  },
  {
   "cell_type": "code",
   "execution_count": 2,
   "id": "e86dafc1-9baa-4e02-bdfe-fd5fbae024d8",
   "metadata": {},
   "outputs": [
    {
     "name": "stdout",
     "output_type": "stream",
     "text": [
      "(1, 2, 3)\n"
     ]
    }
   ],
   "source": [
    "#list to tuple converion\n",
    "l = [1,2,3]\n",
    "t = tuple(l)\n",
    "print(t)"
   ]
  },
  {
   "cell_type": "code",
   "execution_count": 3,
   "id": "01a1c89b-0059-4063-8a79-48b0b78e3ef0",
   "metadata": {},
   "outputs": [
    {
     "name": "stdout",
     "output_type": "stream",
     "text": [
      "1 2 3\n"
     ]
    }
   ],
   "source": [
    "t = (1,2,3)\n",
    "a,b,c = t\n",
    "print(a,b,c)"
   ]
  },
  {
   "cell_type": "code",
   "execution_count": 7,
   "id": "daa614fe-e749-4e4d-b877-90bc0fcaf0b6",
   "metadata": {},
   "outputs": [
    {
     "name": "stdout",
     "output_type": "stream",
     "text": [
      "1 [2, 3, 4, 5] 6\n"
     ]
    }
   ],
   "source": [
    "t = (1,2,3,4,5,6)\n",
    "a,*b,c = t\n",
    "print(a,b,c)"
   ]
  },
  {
   "cell_type": "code",
   "execution_count": 17,
   "id": "f1570967-1505-4e08-8e6d-6de06f58437c",
   "metadata": {},
   "outputs": [
    {
     "name": "stdout",
     "output_type": "stream",
     "text": [
      "<class 'int'> <class 'list'> <class 'int'>\n"
     ]
    }
   ],
   "source": [
    "t = (1,2,3,4,5,6)\n",
    "a,*b,c = t\n",
    "print(type(a),type(b),type(c))"
   ]
  },
  {
   "cell_type": "code",
   "execution_count": null,
   "id": "1f07f8a2-bdab-430b-a5b6-1b6f855acf26",
   "metadata": {},
   "outputs": [],
   "source": []
  }
 ],
 "metadata": {
  "kernelspec": {
   "display_name": "Python 3 (ipykernel)",
   "language": "python",
   "name": "python3"
  },
  "language_info": {
   "codemirror_mode": {
    "name": "ipython",
    "version": 3
   },
   "file_extension": ".py",
   "mimetype": "text/x-python",
   "name": "python",
   "nbconvert_exporter": "python",
   "pygments_lexer": "ipython3",
   "version": "3.13.5"
  }
 },
 "nbformat": 4,
 "nbformat_minor": 5
}
